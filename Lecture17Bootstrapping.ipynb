{
 "cells": [
  {
   "cell_type": "markdown",
   "metadata": {},
   "source": [
    "# Can hitters change their behavior in different game situations? #\n",
    "In recent years, there has a proliferation of defensive shifts in baseball. Teams identify a hitter's tendencies, and then change their positioning on the field to maximize their chances of getting the hitter out. We've seen this in the most extreme where the right side of the infield is overloaded - the 3rd baseman plays at the shortstop position, the shortstop is positioned behind 2nd, and the 2nd baseman is in short right field.\n",
    "\n",
    "The obvious question for a fan seeing a defensive shift is, why don't hitters just hit it to the 3rd base side and take the single? Instead, hitters often hit the ball right into the shift. As long as the shift is working, teams will continue to use it to increase their chances of getting hitters out.\n",
    "\n",
    "There is another question that arises about hitters - can hitters change their natural tendencies to match the game situation? For example, can hitters who don't hit a lot of fly balls hit a fly ball with a runner on 3rd and no outs to get the sacrifice? Can natural fly ball hitters hit a ground ball to the right side with a runner on 2nd and no outs? There are scenarios when a hitters behavior could have a benefit for the team's ability to score a run.\n",
    "\n",
    "There is current trend of applying a defensive shift, primarily for left-handed pull hitters. The result is a defensive alignment where the 3rd baseman plays at the shortstop position, the shortstop is behind 2nd base in short center field, and the 2nd baseman is shifted over toward 1st base in short right field. The obvious question is, why don't hitters just adjust their tendencies and hit the ball somewhere else?\n",
    "\n",
    "## Situational performance scenarios ##\n",
    "For any game situation, are some players better than other at adjusting their behavior to match the situation? Alternatively, we could ask if there is a change in behavior, whether intentional or not.\n",
    "\n",
    "* Rockies fans watched for years as Troy Tulowitski came to bat with runners on base and hit a long fly ball out. It's hard not to wonder if he's trying to hit a home run. Whether intentional or unintentional, can we determine if his behavior changes with runners on base, especially in late innings with the game on the line? Is he trying to be the hero?\n",
    "\n",
    "* With a runner on third and less than two outs, it's nice to see that run score. Yet, batters aren't always successful in hitting a fly ball in that situation. Can we determine if some batters are more likely to hit a fly ball in that situation than they would normally?\n",
    "\n",
    "* With a runner on 2nd and no outs, getting the runner to 3rd means that the runner scores on a sacrifice fly. In a close game, moving this runner could be key to scoring a winning or tying run. Can we determine if some batters can hit a right-side ground ball in this situation even if they don't normally hit ground balls to the right side?\n",
    "\n"
   ]
  },
  {
   "cell_type": "markdown",
   "metadata": {},
   "source": [
    "### Challenges ###\n",
    "* Using standard statistical methods requires knowing the underlying distribution.\n",
    "* Distribution might not be normal\n",
    "* Different sample sizes in different situations skew the results."
   ]
  },
  {
   "cell_type": "markdown",
   "metadata": {},
   "source": [
    "# Bootstrapping #\n",
    "We're going to use bootstrapping to answer questions about players' behavior in different situations. We could also use this approach to determine run production at Coors Field is an outlier compared to other ballparks. Bootstrapping is a technique where we simulate the outcome of a process by sampling randomly from a data set. We use these samples to generate a distribution. We don't need to know the parameters of the distribution, such as mean, std, and median ahead of time, we generate them from our sampling.\n"
   ]
  },
  {
   "cell_type": "markdown",
   "metadata": {},
   "source": [
    "## A non-baseball example ##\n",
    "Let's say you're sitting outside the engineering center one day and you see 10 people walk by, wearing different color jackets. You see,\n",
    "\n",
    "* 5 black jackets\n",
    "* 2 red jackets\n",
    "* 1 blue jacket\n",
    "* 2 green jackets\n",
    "\n",
    "From these observations, you wonder what the probability is of seeing a student at CU wearing a red jacket. Your first thought is that it's 20\\%. But, your sample size is so small and there are 30K students at CU. What are the mean, std of your observations? \n",
    "\n",
    "We can generate a distribution from these 10 observations by simulating the process of observing 10 other people, many times. We randomly draw from the possible values uniformly. In this example, $n = 10$, we can create an array of the 4 distinct value observed in the $n$ observations:\n",
    "$$[B, B, B, B, B, R, R, BL, G, G]$$\n",
    "\n",
    "__Bootstrap Resample:__ A set of $n$ draws from the original sample with replacement.\n",
    "\n",
    "__Draw:__ A draw is a process of selecting one element randomly from our original sample.\n",
    "\n",
    "### Bootstrap Resample ###\n",
    "To generate a bootstrap resample in this example, we generate a random number, 1-10, that represents a position in our array of observations. For example, if we randomly generate the numbers 3 and 6, that means that we observed a B and R jacket because they are in the 3 and 6 positions in our array. We need $n$ draws for a complete resample. \n",
    "\n",
    "Assume we generate the following draws:\n",
    "\n",
    "$$[4, 6, 7, 3, 6, 5, 10, 1, 2, 9]$$\n",
    "\n",
    "it is equivalent to observing:\n",
    "\n",
    "$$[B, R, R, B, R, B, G, B, B, G]$$\n",
    "\n",
    "Three of the observations are R, which is equivalent to observing 3/10 red jackets. To generate a distribution of observations, we repeat the resampling process many times, let's say 1,000. We have 1,000 iterations of $n$ draws, and in each of the $n$ draws, there is a number of times that R is observed.\n",
    "\n",
    "We can implement this process in Python pretty easily. In one run of 1000 resamples, I produced the following values:\n",
    "\n",
    "* 0-118\n",
    "* 1-275\n",
    "* 2-309\n",
    "* 3-192\n",
    "* 4-74\n",
    "* 5-19\n",
    "* 6-7\n",
    "* 7-1\n",
    "* 8-0\n",
    "* 9-0\n",
    "* 10-0\n",
    "\n",
    "The descriptive statistics for this distribution include:\n",
    "\n",
    "* count=1000.000000\n",
    "* mean=2.066000\n",
    "* std=1.308953\n",
    "* min=0.000000\n",
    "* 25\\%=1.000000\n",
    "* 50\\%=2.000000\n",
    "* 75\\%=3.000000\n",
    "* max=7.000000\n"
   ]
  },
  {
   "cell_type": "code",
   "execution_count": 2,
   "metadata": {},
   "outputs": [
    {
     "name": "stdout",
     "output_type": "stream",
     "text": [
      "                 0\n",
      "count  1000.000000\n",
      "mean      2.015000\n",
      "std       1.260303\n",
      "min       0.000000\n",
      "25%       1.000000\n",
      "50%       2.000000\n",
      "75%       3.000000\n",
      "max       7.000000\n"
     ]
    }
   ],
   "source": [
    "from random import randint\n",
    "import pandas as pd \n",
    "#array of jacket values\n",
    "jackets = [0,0,0,0,0,1,1,2,3,3]\n",
    "trials = [0] * 1000\n",
    "for i in range(0,1000): #1000 trials\n",
    "    countForTrial = 0\n",
    "    for j in range(0,10): #10 jackets observed, get their color\n",
    "        x = randint(0,9)\n",
    "        if x == 5 or x == 6:\n",
    "            countForTrial += 1\n",
    "\n",
    "    trials[i] = countForTrial\n",
    "\n",
    "trials.sort()\n",
    "df = pd.DataFrame(trials)\n",
    "print(df.describe())\n"
   ]
  },
  {
   "cell_type": "markdown",
   "metadata": {},
   "source": [
    "## A Baseball Example ##\n",
    "Tulo...Tulo...Tulo. Did Troy Tulowitski hit more flyballs with a runner on third and less than two outs than he did in other base situations, with less than two outs? \n",
    "\n",
    "### What data do we need? ###\n",
    "* The number of times that Tulo batted with a runner on third and less than two outs, and how many times that resulted in a fly ball.\n",
    "* The number of times that Tulo batted with no runner on third and less than two outs, and how many times that resulted in a fly ball.\n",
    "\n",
    "#### Data results ####\n",
    "\n",
    "* 143 times tulo batted with a runner on third and less than 2 outs\n",
    "  - 16 times tulo hit a fly-ball out to the outfield\n",
    "\n",
    "* 1087 times tulo batted with no runner on third and less than 2 outs\n",
    "  - 132 times tulo hit a fly-ball out to the outfield with no runner on third\n",
    "\n",
    "__Null Hypothesis: There is no change in Tulo's behavior with a runner on third.__\n",
    "\n",
    "* The pool of possible values is 143+1087=1230 at-bats. \n",
    "  - 16 of 143 is flyball and 132 of 1087 is flyball.\n",
    "* A draw is 143 at-bats for Tulo to simulate the times he came to bat with runner on third\n",
    "* In all of his at-bats, how many times did Tulo hit a flyball out? 148\n",
    "* Need a list of 1230 at-bats, where 0-147 = 1 for flyball out and 148-1229 = 0 for not flyball out\n",
    "\n",
    "### Simulation results ###\n",
    "16 of 143 shows up in 250 out of 1000 trials, so p-value of observing 16 flyballs in 143 at bats is .25. We can't reject the null hypothesis. There is no change in his flyball hitting behavior with a runner on third.\n",
    "\n",
    "Show notebook and histogram.\n",
    "\n"
   ]
  },
  {
   "cell_type": "code",
   "execution_count": 9,
   "metadata": {},
   "outputs": [
    {
     "name": "stdout",
     "output_type": "stream",
     "text": [
      "0.677\n",
      "                 0\n",
      "count  1000.000000\n",
      "mean     17.287000\n",
      "std       3.810138\n",
      "min       5.000000\n",
      "25%      15.000000\n",
      "50%      17.000000\n",
      "75%      20.000000\n",
      "max      29.000000\n"
     ]
    },
    {
     "data": {
      "image/png": "[encoded data removed]",
      "text/plain": [
       "<Figure size 576x288 with 1 Axes>"
      ]
     },
     "metadata": {
      "needs_background": "light"
     },
     "output_type": "display_data"
    }
   ],
   "source": [
    "from random import randint\n",
    "import pandas as pd \n",
    "import matplotlib.pylab as plt\n",
    "\n",
    "#tulo and the flyball out\n",
    "hits = [0] * 1230\n",
    "for i in range(0,148):\n",
    "    hits[i] = 1\n",
    "trials = [0] * 1000\n",
    "for i in range(0,1000):\n",
    "    countForTrial = 0\n",
    "    for j in range(0,143):\n",
    "        x = randint(0,1229)\n",
    "        countForTrial+=hits[x]\n",
    "    trials[i] = countForTrial\n",
    "trials.sort()\n",
    "tr = 0\n",
    "for t in trials:\n",
    "    if t == 16:\n",
    "        tr+=1\n",
    "print(tr/1000)\n",
    "df = pd.DataFrame(trials)\n",
    "print(df.describe())\n",
    "# Initialize figure and axis\n",
    "fig, ax = plt.subplots(figsize=(8,4))\n",
    "\n",
    "# Plot histogram \n",
    "df.hist(ax=ax);\n"
   ]
  }
 ],
 "metadata": {
  "kernelspec": {
   "display_name": "Python 3",
   "language": "python",
   "name": "python3"
  },
  "language_info": {
   "codemirror_mode": {
    "name": "ipython",
    "version": 3
   },
   "file_extension": ".py",
   "mimetype": "text/x-python",
   "name": "python",
   "nbconvert_exporter": "python",
   "pygments_lexer": "ipython3",
   "version": "3.6.7"
  }
 },
 "nbformat": 4,
 "nbformat_minor": 2
}
